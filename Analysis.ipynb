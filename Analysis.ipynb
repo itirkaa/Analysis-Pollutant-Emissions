{
 "cells": [
  {
   "cell_type": "markdown",
   "metadata": {},
   "source": [
    "# Pollutant Emissions from Transport"
   ]
  },
  {
   "cell_type": "code",
   "execution_count": 1,
   "metadata": {},
   "outputs": [],
   "source": [
    "import numpy as np\n",
    "import pandas as pd\n",
    "import matplotlib.pyplot as plt\n",
    "import seaborn as sns\n",
    "%matplotlib inline\n",
    "\n",
    "import warnings\n",
    "warnings.filterwarnings('ignore')\n",
    "\n",
    "sns.set()"
   ]
  },
  {
   "cell_type": "code",
   "execution_count": 2,
   "metadata": {},
   "outputs": [
    {
     "data": {
      "text/html": [
       "<div>\n",
       "<style scoped>\n",
       "    .dataframe tbody tr th:only-of-type {\n",
       "        vertical-align: middle;\n",
       "    }\n",
       "\n",
       "    .dataframe tbody tr th {\n",
       "        vertical-align: top;\n",
       "    }\n",
       "\n",
       "    .dataframe thead th {\n",
       "        text-align: right;\n",
       "    }\n",
       "</style>\n",
       "<table border=\"1\" class=\"dataframe\">\n",
       "  <thead>\n",
       "    <tr style=\"text-align: right;\">\n",
       "      <th></th>\n",
       "      <th>unit</th>\n",
       "      <th>src_nfr</th>\n",
       "      <th>airpol</th>\n",
       "      <th>geo</th>\n",
       "      <th>1990</th>\n",
       "      <th>1991</th>\n",
       "      <th>1992</th>\n",
       "      <th>1993</th>\n",
       "      <th>1994</th>\n",
       "      <th>1995</th>\n",
       "      <th>...</th>\n",
       "      <th>2008</th>\n",
       "      <th>2009</th>\n",
       "      <th>2010</th>\n",
       "      <th>2011</th>\n",
       "      <th>2012</th>\n",
       "      <th>2013</th>\n",
       "      <th>2014</th>\n",
       "      <th>2015</th>\n",
       "      <th>2016</th>\n",
       "      <th>2017</th>\n",
       "    </tr>\n",
       "  </thead>\n",
       "  <tbody>\n",
       "    <tr>\n",
       "      <th>0</th>\n",
       "      <td>PC</td>\n",
       "      <td>SE1_RD_NRD</td>\n",
       "      <td>NMVOC</td>\n",
       "      <td>AT</td>\n",
       "      <td>317.9</td>\n",
       "      <td>303.2</td>\n",
       "      <td>261.4</td>\n",
       "      <td>225.7</td>\n",
       "      <td>198.3</td>\n",
       "      <td>174.4</td>\n",
       "      <td>...</td>\n",
       "      <td>55.1</td>\n",
       "      <td>50.3</td>\n",
       "      <td>48.0</td>\n",
       "      <td>44.2</td>\n",
       "      <td>41.2</td>\n",
       "      <td>39.0</td>\n",
       "      <td>36.8</td>\n",
       "      <td>35.7</td>\n",
       "      <td>33.5</td>\n",
       "      <td>32.2</td>\n",
       "    </tr>\n",
       "    <tr>\n",
       "      <th>1</th>\n",
       "      <td>PC</td>\n",
       "      <td>SE1_RD_NRD</td>\n",
       "      <td>NMVOC</td>\n",
       "      <td>BE</td>\n",
       "      <td>252.7</td>\n",
       "      <td>230.9</td>\n",
       "      <td>221.9</td>\n",
       "      <td>204.0</td>\n",
       "      <td>191.8</td>\n",
       "      <td>182.9</td>\n",
       "      <td>...</td>\n",
       "      <td>42.3</td>\n",
       "      <td>38.5</td>\n",
       "      <td>35.5</td>\n",
       "      <td>32.0</td>\n",
       "      <td>28.5</td>\n",
       "      <td>24.8</td>\n",
       "      <td>24.3</td>\n",
       "      <td>24.1</td>\n",
       "      <td>23.6</td>\n",
       "      <td>22.6</td>\n",
       "    </tr>\n",
       "    <tr>\n",
       "      <th>2</th>\n",
       "      <td>PC</td>\n",
       "      <td>SE1_RD_NRD</td>\n",
       "      <td>NMVOC</td>\n",
       "      <td>BG</td>\n",
       "      <td>214.8</td>\n",
       "      <td>107.1</td>\n",
       "      <td>129.7</td>\n",
       "      <td>146.9</td>\n",
       "      <td>142.5</td>\n",
       "      <td>150.4</td>\n",
       "      <td>...</td>\n",
       "      <td>56.6</td>\n",
       "      <td>55.4</td>\n",
       "      <td>49.0</td>\n",
       "      <td>46.6</td>\n",
       "      <td>46.1</td>\n",
       "      <td>40.6</td>\n",
       "      <td>40.9</td>\n",
       "      <td>41.6</td>\n",
       "      <td>38.0</td>\n",
       "      <td>32.8</td>\n",
       "    </tr>\n",
       "    <tr>\n",
       "      <th>3</th>\n",
       "      <td>PC</td>\n",
       "      <td>SE1_RD_NRD</td>\n",
       "      <td>NMVOC</td>\n",
       "      <td>CY</td>\n",
       "      <td>134.7</td>\n",
       "      <td>132.0</td>\n",
       "      <td>129.3</td>\n",
       "      <td>124.4</td>\n",
       "      <td>126.7</td>\n",
       "      <td>123.8</td>\n",
       "      <td>...</td>\n",
       "      <td>75.1</td>\n",
       "      <td>68.6</td>\n",
       "      <td>65.2</td>\n",
       "      <td>60.7</td>\n",
       "      <td>56.1</td>\n",
       "      <td>51.7</td>\n",
       "      <td>50.0</td>\n",
       "      <td>48.5</td>\n",
       "      <td>49.6</td>\n",
       "      <td>48.2</td>\n",
       "    </tr>\n",
       "    <tr>\n",
       "      <th>4</th>\n",
       "      <td>PC</td>\n",
       "      <td>SE1_RD_NRD</td>\n",
       "      <td>NMVOC</td>\n",
       "      <td>CZ</td>\n",
       "      <td>116.3</td>\n",
       "      <td>108.8</td>\n",
       "      <td>132.1</td>\n",
       "      <td>120.8</td>\n",
       "      <td>131.0</td>\n",
       "      <td>128.5</td>\n",
       "      <td>...</td>\n",
       "      <td>60.6</td>\n",
       "      <td>59.8</td>\n",
       "      <td>53.0</td>\n",
       "      <td>49.6</td>\n",
       "      <td>44.1</td>\n",
       "      <td>37.6</td>\n",
       "      <td>34.1</td>\n",
       "      <td>29.8</td>\n",
       "      <td>26.3</td>\n",
       "      <td>26.1</td>\n",
       "    </tr>\n",
       "  </tbody>\n",
       "</table>\n",
       "<p>5 rows × 32 columns</p>\n",
       "</div>"
      ],
      "text/plain": [
       "  unit     src_nfr airpol geo   1990    1991    1992    1993    1994    1995   \\\n",
       "0   PC  SE1_RD_NRD  NMVOC  AT  317.9   303.2   261.4   225.7   198.3   174.4    \n",
       "1   PC  SE1_RD_NRD  NMVOC  BE  252.7   230.9   221.9   204.0   191.8   182.9    \n",
       "2   PC  SE1_RD_NRD  NMVOC  BG  214.8   107.1   129.7   146.9   142.5   150.4    \n",
       "3   PC  SE1_RD_NRD  NMVOC  CY  134.7   132.0   129.3   124.4   126.7   123.8    \n",
       "4   PC  SE1_RD_NRD  NMVOC  CZ  116.3   108.8   132.1   120.8   131.0   128.5    \n",
       "\n",
       "   ...  2008   2009   2010   2011   2012   2013   2014   2015   2016   2017   \n",
       "0  ...  55.1   50.3   48.0   44.2   41.2   39.0   36.8   35.7   33.5   32.2   \n",
       "1  ...  42.3   38.5   35.5   32.0   28.5   24.8   24.3   24.1   23.6   22.6   \n",
       "2  ...  56.6   55.4   49.0   46.6   46.1   40.6   40.9   41.6   38.0   32.8   \n",
       "3  ...  75.1   68.6   65.2   60.7   56.1   51.7   50.0   48.5   49.6   48.2   \n",
       "4  ...  60.6   59.8   53.0   49.6   44.1   37.6   34.1   29.8   26.3   26.1   \n",
       "\n",
       "[5 rows x 32 columns]"
      ]
     },
     "execution_count": 2,
     "metadata": {},
     "output_type": "execute_result"
    }
   ],
   "source": [
    "data_df = pd.read_csv('Dataset/t2020_rk300.tsv', sep='\\t', header=0)\n",
    "\n",
    "split_col = data_df[r'unit,src_nfr,airpol,geo\\time'].str.split(',', expand=True)\n",
    "new_cols = ['unit', 'src_nfr', 'airpol', 'geo']\n",
    "for i in range(0, 4):\n",
    "    data_df.insert(i, new_cols[i], split_col[i])\n",
    "    \n",
    "data_df.drop(columns=[r'unit,src_nfr,airpol,geo\\time'], axis=1, inplace=True)\n",
    "\n",
    "data_df.head()"
   ]
  },
  {
   "cell_type": "code",
   "execution_count": 3,
   "metadata": {},
   "outputs": [],
   "source": [
    "data_df.columns = data_df.columns.str.replace(' ', '')\n",
    "\n",
    "data_df.replace(to_replace=': ', value=np.nan, inplace=True)\n",
    "\n",
    "cols = data_df.columns[4:]\n",
    "data_df[cols] = data_df[cols].astype(float)"
   ]
  },
  {
   "cell_type": "markdown",
   "metadata": {},
   "source": [
    "## Nitrogen Oxides"
   ]
  },
  {
   "cell_type": "code",
   "execution_count": 4,
   "metadata": {},
   "outputs": [],
   "source": [
    "nox_df = data_df[data_df['airpol'] == 'NOX']"
   ]
  },
  {
   "cell_type": "markdown",
   "metadata": {},
   "source": [
    "### Year and Country with Highest amount of Nitrogen Oxides"
   ]
  },
  {
   "cell_type": "code",
   "execution_count": 52,
   "metadata": {},
   "outputs": [
    {
     "name": "stdout",
     "output_type": "stream",
     "text": [
      "In year 1990, LT had highest amount of Nitrogen Oxides in air\n"
     ]
    }
   ],
   "source": [
    "max_nox_year = nox_df.iloc[:, 4:].max(axis=0).idxmax(axis=1)\n",
    "max_nox_country = data_df.iloc[nox_df.iloc[:, 4:].max(axis=1).idxmax(axis=0), 3]\n",
    "print(\"In year {}, {} had highest amount of Nitrogen Oxides in air\".format(max_nox_year, max_nox_country))"
   ]
  },
  {
   "cell_type": "markdown",
   "metadata": {},
   "source": [
    "### Hightest to Lowest amounts of Nitrogen Oxides in 2017"
   ]
  },
  {
   "cell_type": "code",
   "execution_count": 5,
   "metadata": {},
   "outputs": [
    {
     "data": {
      "text/plain": [
       "<matplotlib.axes._subplots.AxesSubplot at 0x2341bbda048>"
      ]
     },
     "execution_count": 5,
     "metadata": {},
     "output_type": "execute_result"
    },
    {
     "data": {
      "image/png": "[encoded data removed]",
      "text/plain": [
       "<Figure size 576x360 with 1 Axes>"
      ]
     },
     "metadata": {
      "needs_background": "light"
     },
     "output_type": "display_data"
    }
   ],
   "source": [
    "plt.rcParams['figure.figsize'] = (8, 5)\n",
    "plt.xticks(rotation=90)\n",
    "sns.barplot(data=nox_df.sort_values(by='2017',ascending=False), x='geo', y='2017')"
   ]
  },
  {
   "cell_type": "markdown",
   "metadata": {},
   "source": [
    "### Countries with Highest amount of Nitrogen Oxide in 2017"
   ]
  },
  {
   "cell_type": "code",
   "execution_count": 6,
   "metadata": {},
   "outputs": [
    {
     "data": {
      "text/plain": [
       "<matplotlib.axes._subplots.AxesSubplot at 0x2341bfa61d0>"
      ]
     },
     "execution_count": 6,
     "metadata": {},
     "output_type": "execute_result"
    },
    {
     "data": {
      "image/png": "[encoded data removed]",
      "text/plain": [
       "<Figure size 576x360 with 1 Axes>"
      ]
     },
     "metadata": {
      "needs_background": "light"
     },
     "output_type": "display_data"
    }
   ],
   "source": [
    "sns.barplot(data=nox_df.sort_values(by='2017',ascending=False).head(3), x='geo', y='2017')"
   ]
  },
  {
   "cell_type": "code",
   "execution_count": 8,
   "metadata": {},
   "outputs": [
    {
     "data": {
      "text/html": [
       "<div>\n",
       "<style scoped>\n",
       "    .dataframe tbody tr th:only-of-type {\n",
       "        vertical-align: middle;\n",
       "    }\n",
       "\n",
       "    .dataframe tbody tr th {\n",
       "        vertical-align: top;\n",
       "    }\n",
       "\n",
       "    .dataframe thead th {\n",
       "        text-align: right;\n",
       "    }\n",
       "</style>\n",
       "<table border=\"1\" class=\"dataframe\">\n",
       "  <thead>\n",
       "    <tr style=\"text-align: right;\">\n",
       "      <th></th>\n",
       "      <th>geo</th>\n",
       "      <th>2017</th>\n",
       "    </tr>\n",
       "  </thead>\n",
       "  <tbody>\n",
       "    <tr>\n",
       "      <th>55</th>\n",
       "      <td>RO</td>\n",
       "      <td>140.0</td>\n",
       "    </tr>\n",
       "    <tr>\n",
       "      <th>53</th>\n",
       "      <td>PL</td>\n",
       "      <td>134.4</td>\n",
       "    </tr>\n",
       "    <tr>\n",
       "      <th>51</th>\n",
       "      <td>MT</td>\n",
       "      <td>106.4</td>\n",
       "    </tr>\n",
       "  </tbody>\n",
       "</table>\n",
       "</div>"
      ],
      "text/plain": [
       "   geo   2017\n",
       "55  RO  140.0\n",
       "53  PL  134.4\n",
       "51  MT  106.4"
      ]
     },
     "execution_count": 8,
     "metadata": {},
     "output_type": "execute_result"
    }
   ],
   "source": [
    "nox_df.sort_values(by='2017',ascending=False).head(3)[['geo', '2017']]"
   ]
  },
  {
   "cell_type": "markdown",
   "metadata": {},
   "source": [
    "### Countries with Lowest amount of Nitrogen Oxide in 2017"
   ]
  },
  {
   "cell_type": "code",
   "execution_count": 9,
   "metadata": {},
   "outputs": [
    {
     "data": {
      "text/plain": [
       "<matplotlib.axes._subplots.AxesSubplot at 0x2341c029978>"
      ]
     },
     "execution_count": 9,
     "metadata": {},
     "output_type": "execute_result"
    },
    {
     "data": {
      "image/png": "[encoded data removed]",
      "text/plain": [
       "<Figure size 576x360 with 1 Axes>"
      ]
     },
     "metadata": {
      "needs_background": "light"
     },
     "output_type": "display_data"
    }
   ],
   "source": [
    "sns.barplot(data=nox_df.sort_values(by='2017',ascending=False).tail(3), x='geo', y='2017')"
   ]
  },
  {
   "cell_type": "code",
   "execution_count": 10,
   "metadata": {},
   "outputs": [
    {
     "data": {
      "text/html": [
       "<div>\n",
       "<style scoped>\n",
       "    .dataframe tbody tr th:only-of-type {\n",
       "        vertical-align: middle;\n",
       "    }\n",
       "\n",
       "    .dataframe tbody tr th {\n",
       "        vertical-align: top;\n",
       "    }\n",
       "\n",
       "    .dataframe thead th {\n",
       "        text-align: right;\n",
       "    }\n",
       "</style>\n",
       "<table border=\"1\" class=\"dataframe\">\n",
       "  <thead>\n",
       "    <tr style=\"text-align: right;\">\n",
       "      <th></th>\n",
       "      <th>geo</th>\n",
       "      <th>2017</th>\n",
       "    </tr>\n",
       "  </thead>\n",
       "  <tbody>\n",
       "    <tr>\n",
       "      <th>42</th>\n",
       "      <td>FI</td>\n",
       "      <td>37.4</td>\n",
       "    </tr>\n",
       "    <tr>\n",
       "      <th>49</th>\n",
       "      <td>LU</td>\n",
       "      <td>35.1</td>\n",
       "    </tr>\n",
       "    <tr>\n",
       "      <th>38</th>\n",
       "      <td>EL</td>\n",
       "      <td>NaN</td>\n",
       "    </tr>\n",
       "  </tbody>\n",
       "</table>\n",
       "</div>"
      ],
      "text/plain": [
       "   geo  2017\n",
       "42  FI  37.4\n",
       "49  LU  35.1\n",
       "38  EL   NaN"
      ]
     },
     "execution_count": 10,
     "metadata": {},
     "output_type": "execute_result"
    }
   ],
   "source": [
    "nox_df.sort_values(by='2017',ascending=False).tail(3)[['geo', '2017']]"
   ]
  },
  {
   "cell_type": "markdown",
   "metadata": {},
   "source": [
    "### Analysis over time"
   ]
  },
  {
   "cell_type": "code",
   "execution_count": 11,
   "metadata": {},
   "outputs": [
    {
     "data": {
      "text/plain": [
       "<matplotlib.axes._subplots.AxesSubplot at 0x2341c08dba8>"
      ]
     },
     "execution_count": 11,
     "metadata": {},
     "output_type": "execute_result"
    },
    {
     "data": {
      "image/png": "[encoded data removed]",
      "text/plain": [
       "<Figure size 576x360 with 1 Axes>"
      ]
     },
     "metadata": {
      "needs_background": "light"
     },
     "output_type": "display_data"
    }
   ],
   "source": [
    "plt.xticks(rotation=90)\n",
    "nox_amount = nox_df.median()\n",
    "sns.pointplot(x=nox_amount.index, y=nox_amount)"
   ]
  },
  {
   "cell_type": "markdown",
   "metadata": {},
   "source": [
    "### Non-Methane Volatile Organic Compounds"
   ]
  },
  {
   "cell_type": "code",
   "execution_count": 12,
   "metadata": {},
   "outputs": [],
   "source": [
    "nmv_df = data_df[data_df['airpol'] == 'NMVOC']"
   ]
  },
  {
   "cell_type": "code",
   "execution_count": null,
   "metadata": {},
   "outputs": [],
   "source": []
  },
  {
   "cell_type": "code",
   "execution_count": 54,
   "metadata": {},
   "outputs": [
    {
     "name": "stdout",
     "output_type": "stream",
     "text": [
      "In year 1990, DE had highest amount of Non-Methan Volatile Organic Compounds in air\n"
     ]
    }
   ],
   "source": [
    "max_nmv_year = nmv_df.iloc[:, 4:].max(axis=0).idxmax(axis=1)\n",
    "max_nmv_country = data_df.iloc[nmv_df.iloc[:, 4:].max(axis=1).idxmax(axis=0), 3]\n",
    "print(\"In year {}, {} had highest amount of Non-Methan Volatile Organic Compounds in air\".format(max_nmv_year, max_nmv_country))"
   ]
  },
  {
   "cell_type": "code",
   "execution_count": 13,
   "metadata": {},
   "outputs": [
    {
     "data": {
      "text/plain": [
       "<matplotlib.axes._subplots.AxesSubplot at 0x2341c182710>"
      ]
     },
     "execution_count": 13,
     "metadata": {},
     "output_type": "execute_result"
    },
    {
     "data": {
      "image/png": "[encoded data removed]",
      "text/plain": [
       "<Figure size 576x360 with 1 Axes>"
      ]
     },
     "metadata": {
      "needs_background": "light"
     },
     "output_type": "display_data"
    }
   ],
   "source": [
    "sns.barplot(data=nmv_df.sort_values(by='2017',ascending=False), x='geo', y='2017')"
   ]
  },
  {
   "cell_type": "markdown",
   "metadata": {},
   "source": [
    "### Top 3 countries with Highest amount of Non-Methane Volatile Organic Compounds IN 2017"
   ]
  },
  {
   "cell_type": "code",
   "execution_count": 14,
   "metadata": {},
   "outputs": [
    {
     "data": {
      "text/plain": [
       "<matplotlib.axes._subplots.AxesSubplot at 0x2341c2a5f28>"
      ]
     },
     "execution_count": 14,
     "metadata": {},
     "output_type": "execute_result"
    },
    {
     "data": {
      "image/png": "[encoded data removed]",
      "text/plain": [
       "<Figure size 576x360 with 1 Axes>"
      ]
     },
     "metadata": {
      "needs_background": "light"
     },
     "output_type": "display_data"
    }
   ],
   "source": [
    "sns.barplot(data=nmv_df.sort_values(by='2017',ascending=False).head(3), x='geo', y='2017')"
   ]
  },
  {
   "cell_type": "code",
   "execution_count": 16,
   "metadata": {},
   "outputs": [
    {
     "data": {
      "text/html": [
       "<div>\n",
       "<style scoped>\n",
       "    .dataframe tbody tr th:only-of-type {\n",
       "        vertical-align: middle;\n",
       "    }\n",
       "\n",
       "    .dataframe tbody tr th {\n",
       "        vertical-align: top;\n",
       "    }\n",
       "\n",
       "    .dataframe thead th {\n",
       "        text-align: right;\n",
       "    }\n",
       "</style>\n",
       "<table border=\"1\" class=\"dataframe\">\n",
       "  <thead>\n",
       "    <tr style=\"text-align: right;\">\n",
       "      <th></th>\n",
       "      <th>geo</th>\n",
       "      <th>2017</th>\n",
       "    </tr>\n",
       "  </thead>\n",
       "  <tbody>\n",
       "    <tr>\n",
       "      <th>25</th>\n",
       "      <td>RO</td>\n",
       "      <td>107.7</td>\n",
       "    </tr>\n",
       "    <tr>\n",
       "      <th>21</th>\n",
       "      <td>MT</td>\n",
       "      <td>69.3</td>\n",
       "    </tr>\n",
       "    <tr>\n",
       "      <th>23</th>\n",
       "      <td>PL</td>\n",
       "      <td>55.0</td>\n",
       "    </tr>\n",
       "  </tbody>\n",
       "</table>\n",
       "</div>"
      ],
      "text/plain": [
       "   geo   2017\n",
       "25  RO  107.7\n",
       "21  MT   69.3\n",
       "23  PL   55.0"
      ]
     },
     "execution_count": 16,
     "metadata": {},
     "output_type": "execute_result"
    }
   ],
   "source": [
    "nmv_df.sort_values(by='2017',ascending=False).head(3)[['geo', '2017']]"
   ]
  },
  {
   "cell_type": "markdown",
   "metadata": {},
   "source": [
    "### Countries with Lowest amount of Non-Methane Volatile Organic Compounds In 2017"
   ]
  },
  {
   "cell_type": "code",
   "execution_count": 15,
   "metadata": {},
   "outputs": [
    {
     "data": {
      "text/plain": [
       "<matplotlib.axes._subplots.AxesSubplot at 0x2341c3062e8>"
      ]
     },
     "execution_count": 15,
     "metadata": {},
     "output_type": "execute_result"
    },
    {
     "data": {
      "image/png": "[encoded data removed]",
      "text/plain": [
       "<Figure size 576x360 with 1 Axes>"
      ]
     },
     "metadata": {
      "needs_background": "light"
     },
     "output_type": "display_data"
    }
   ],
   "source": [
    "sns.barplot(data=nmv_df.sort_values(by='2017',ascending=False).tail(3), x='geo', y='2017')"
   ]
  },
  {
   "cell_type": "code",
   "execution_count": 17,
   "metadata": {},
   "outputs": [
    {
     "data": {
      "text/html": [
       "<div>\n",
       "<style scoped>\n",
       "    .dataframe tbody tr th:only-of-type {\n",
       "        vertical-align: middle;\n",
       "    }\n",
       "\n",
       "    .dataframe tbody tr th {\n",
       "        vertical-align: top;\n",
       "    }\n",
       "\n",
       "    .dataframe thead th {\n",
       "        text-align: right;\n",
       "    }\n",
       "</style>\n",
       "<table border=\"1\" class=\"dataframe\">\n",
       "  <thead>\n",
       "    <tr style=\"text-align: right;\">\n",
       "      <th></th>\n",
       "      <th>geo</th>\n",
       "      <th>2017</th>\n",
       "    </tr>\n",
       "  </thead>\n",
       "  <tbody>\n",
       "    <tr>\n",
       "      <th>9</th>\n",
       "      <td>ES</td>\n",
       "      <td>12.3</td>\n",
       "    </tr>\n",
       "    <tr>\n",
       "      <th>29</th>\n",
       "      <td>UK</td>\n",
       "      <td>10.3</td>\n",
       "    </tr>\n",
       "    <tr>\n",
       "      <th>8</th>\n",
       "      <td>EL</td>\n",
       "      <td>NaN</td>\n",
       "    </tr>\n",
       "  </tbody>\n",
       "</table>\n",
       "</div>"
      ],
      "text/plain": [
       "   geo  2017\n",
       "9   ES  12.3\n",
       "29  UK  10.3\n",
       "8   EL   NaN"
      ]
     },
     "execution_count": 17,
     "metadata": {},
     "output_type": "execute_result"
    }
   ],
   "source": [
    "nmv_df.sort_values(by='2017',ascending=False).tail(3)[['geo', '2017']]"
   ]
  },
  {
   "cell_type": "markdown",
   "metadata": {},
   "source": [
    "### Particulates"
   ]
  },
  {
   "cell_type": "code",
   "execution_count": 18,
   "metadata": {},
   "outputs": [],
   "source": [
    "pm10_df = data_df[data_df['airpol'] == 'PM10']"
   ]
  },
  {
   "cell_type": "code",
   "execution_count": null,
   "metadata": {},
   "outputs": [],
   "source": []
  },
  {
   "cell_type": "code",
   "execution_count": 56,
   "metadata": {},
   "outputs": [
    {
     "name": "stdout",
     "output_type": "stream",
     "text": [
      "In year 2017, RO had highest amount of Particulates 10 in air\n"
     ]
    }
   ],
   "source": [
    "max_pm10_year = pm10_df.iloc[:, 4:].max(axis=0).idxmax(axis=1)\n",
    "max_pm10_country = data_df.iloc[pm10_df.iloc[:, 4:].max(axis=1).idxmax(axis=0), 3]\n",
    "print(\"In year {}, {} had highest amount of Particulates 10 in air\".format(max_pm10_year, max_pm10_country))"
   ]
  },
  {
   "cell_type": "code",
   "execution_count": 19,
   "metadata": {},
   "outputs": [
    {
     "data": {
      "text/plain": [
       "<matplotlib.axes._subplots.AxesSubplot at 0x2341c3595c0>"
      ]
     },
     "execution_count": 19,
     "metadata": {},
     "output_type": "execute_result"
    },
    {
     "data": {
      "image/png": "[encoded data removed]",
      "text/plain": [
       "<Figure size 576x360 with 1 Axes>"
      ]
     },
     "metadata": {
      "needs_background": "light"
     },
     "output_type": "display_data"
    }
   ],
   "source": [
    "sns.barplot(data=pm10_df.sort_values(by='2017',ascending=False), x='geo', y='2017')"
   ]
  },
  {
   "cell_type": "markdown",
   "metadata": {},
   "source": [
    "### Countries with Highest amount of Particulates In 2017"
   ]
  },
  {
   "cell_type": "code",
   "execution_count": 20,
   "metadata": {},
   "outputs": [
    {
     "data": {
      "text/plain": [
       "<matplotlib.axes._subplots.AxesSubplot at 0x2341c48c208>"
      ]
     },
     "execution_count": 20,
     "metadata": {},
     "output_type": "execute_result"
    },
    {
     "data": {
      "image/png": "[encoded data removed]",
      "text/plain": [
       "<Figure size 576x360 with 1 Axes>"
      ]
     },
     "metadata": {
      "needs_background": "light"
     },
     "output_type": "display_data"
    }
   ],
   "source": [
    "sns.barplot(data=pm10_df.sort_values(by='2017',ascending=False).head(3), x='geo', y='2017')"
   ]
  },
  {
   "cell_type": "code",
   "execution_count": 22,
   "metadata": {},
   "outputs": [
    {
     "data": {
      "text/html": [
       "<div>\n",
       "<style scoped>\n",
       "    .dataframe tbody tr th:only-of-type {\n",
       "        vertical-align: middle;\n",
       "    }\n",
       "\n",
       "    .dataframe tbody tr th {\n",
       "        vertical-align: top;\n",
       "    }\n",
       "\n",
       "    .dataframe thead th {\n",
       "        text-align: right;\n",
       "    }\n",
       "</style>\n",
       "<table border=\"1\" class=\"dataframe\">\n",
       "  <thead>\n",
       "    <tr style=\"text-align: right;\">\n",
       "      <th></th>\n",
       "      <th>geo</th>\n",
       "      <th>2017</th>\n",
       "    </tr>\n",
       "  </thead>\n",
       "  <tbody>\n",
       "    <tr>\n",
       "      <th>85</th>\n",
       "      <td>RO</td>\n",
       "      <td>308.5</td>\n",
       "    </tr>\n",
       "    <tr>\n",
       "      <th>78</th>\n",
       "      <td>LT</td>\n",
       "      <td>215.1</td>\n",
       "    </tr>\n",
       "    <tr>\n",
       "      <th>83</th>\n",
       "      <td>PL</td>\n",
       "      <td>172.0</td>\n",
       "    </tr>\n",
       "  </tbody>\n",
       "</table>\n",
       "</div>"
      ],
      "text/plain": [
       "   geo   2017\n",
       "85  RO  308.5\n",
       "78  LT  215.1\n",
       "83  PL  172.0"
      ]
     },
     "execution_count": 22,
     "metadata": {},
     "output_type": "execute_result"
    }
   ],
   "source": [
    "pm10_df.sort_values(by='2017',ascending=False).head(3)[['geo', '2017']]"
   ]
  },
  {
   "cell_type": "markdown",
   "metadata": {},
   "source": [
    "### Countries with Highest amount of Particulates In 2017"
   ]
  },
  {
   "cell_type": "code",
   "execution_count": 23,
   "metadata": {},
   "outputs": [
    {
     "data": {
      "text/plain": [
       "<matplotlib.axes._subplots.AxesSubplot at 0x2341c4e3b38>"
      ]
     },
     "execution_count": 23,
     "metadata": {},
     "output_type": "execute_result"
    },
    {
     "data": {
      "image/png": "[encoded data removed]",
      "text/plain": [
       "<Figure size 576x360 with 1 Axes>"
      ]
     },
     "metadata": {
      "needs_background": "light"
     },
     "output_type": "display_data"
    }
   ],
   "source": [
    "sns.barplot(data=pm10_df.sort_values(by='2017',ascending=False).tail(3), x='geo', y='2017')"
   ]
  },
  {
   "cell_type": "code",
   "execution_count": 24,
   "metadata": {},
   "outputs": [
    {
     "data": {
      "text/html": [
       "<div>\n",
       "<style scoped>\n",
       "    .dataframe tbody tr th:only-of-type {\n",
       "        vertical-align: middle;\n",
       "    }\n",
       "\n",
       "    .dataframe tbody tr th {\n",
       "        vertical-align: top;\n",
       "    }\n",
       "\n",
       "    .dataframe thead th {\n",
       "        text-align: right;\n",
       "    }\n",
       "</style>\n",
       "<table border=\"1\" class=\"dataframe\">\n",
       "  <thead>\n",
       "    <tr style=\"text-align: right;\">\n",
       "      <th></th>\n",
       "      <th>geo</th>\n",
       "      <th>2017</th>\n",
       "    </tr>\n",
       "  </thead>\n",
       "  <tbody>\n",
       "    <tr>\n",
       "      <th>77</th>\n",
       "      <td>IT</td>\n",
       "      <td>44.2</td>\n",
       "    </tr>\n",
       "    <tr>\n",
       "      <th>81</th>\n",
       "      <td>MT</td>\n",
       "      <td>43.6</td>\n",
       "    </tr>\n",
       "    <tr>\n",
       "      <th>82</th>\n",
       "      <td>NL</td>\n",
       "      <td>39.5</td>\n",
       "    </tr>\n",
       "  </tbody>\n",
       "</table>\n",
       "</div>"
      ],
      "text/plain": [
       "   geo  2017\n",
       "77  IT  44.2\n",
       "81  MT  43.6\n",
       "82  NL  39.5"
      ]
     },
     "execution_count": 24,
     "metadata": {},
     "output_type": "execute_result"
    }
   ],
   "source": [
    "pm10_df.sort_values(by='2017',ascending=False).tail(3)[['geo', '2017']]"
   ]
  },
  {
   "cell_type": "markdown",
   "metadata": {},
   "source": [
    "## Reformating Dataframe"
   ]
  },
  {
   "cell_type": "code",
   "execution_count": 74,
   "metadata": {},
   "outputs": [
    {
     "data": {
      "text/html": [
       "<div>\n",
       "<style scoped>\n",
       "    .dataframe tbody tr th:only-of-type {\n",
       "        vertical-align: middle;\n",
       "    }\n",
       "\n",
       "    .dataframe tbody tr th {\n",
       "        vertical-align: top;\n",
       "    }\n",
       "\n",
       "    .dataframe thead th {\n",
       "        text-align: right;\n",
       "    }\n",
       "</style>\n",
       "<table border=\"1\" class=\"dataframe\">\n",
       "  <thead>\n",
       "    <tr style=\"text-align: right;\">\n",
       "      <th></th>\n",
       "      <th>geo</th>\n",
       "      <th>airpol</th>\n",
       "      <th>year</th>\n",
       "      <th>pol_level</th>\n",
       "    </tr>\n",
       "  </thead>\n",
       "  <tbody>\n",
       "    <tr>\n",
       "      <th>0</th>\n",
       "      <td>AT</td>\n",
       "      <td>NMVOC</td>\n",
       "      <td>1990</td>\n",
       "      <td>317.9</td>\n",
       "    </tr>\n",
       "    <tr>\n",
       "      <th>1</th>\n",
       "      <td>BE</td>\n",
       "      <td>NMVOC</td>\n",
       "      <td>1990</td>\n",
       "      <td>252.7</td>\n",
       "    </tr>\n",
       "    <tr>\n",
       "      <th>2</th>\n",
       "      <td>BG</td>\n",
       "      <td>NMVOC</td>\n",
       "      <td>1990</td>\n",
       "      <td>214.8</td>\n",
       "    </tr>\n",
       "    <tr>\n",
       "      <th>3</th>\n",
       "      <td>CY</td>\n",
       "      <td>NMVOC</td>\n",
       "      <td>1990</td>\n",
       "      <td>134.7</td>\n",
       "    </tr>\n",
       "    <tr>\n",
       "      <th>4</th>\n",
       "      <td>CZ</td>\n",
       "      <td>NMVOC</td>\n",
       "      <td>1990</td>\n",
       "      <td>116.3</td>\n",
       "    </tr>\n",
       "    <tr>\n",
       "      <th>5</th>\n",
       "      <td>DE</td>\n",
       "      <td>NMVOC</td>\n",
       "      <td>1990</td>\n",
       "      <td>398.1</td>\n",
       "    </tr>\n",
       "    <tr>\n",
       "      <th>6</th>\n",
       "      <td>DK</td>\n",
       "      <td>NMVOC</td>\n",
       "      <td>1990</td>\n",
       "      <td>157.4</td>\n",
       "    </tr>\n",
       "    <tr>\n",
       "      <th>7</th>\n",
       "      <td>EE</td>\n",
       "      <td>NMVOC</td>\n",
       "      <td>1990</td>\n",
       "      <td>171.2</td>\n",
       "    </tr>\n",
       "    <tr>\n",
       "      <th>8</th>\n",
       "      <td>EL</td>\n",
       "      <td>NMVOC</td>\n",
       "      <td>1990</td>\n",
       "      <td>NaN</td>\n",
       "    </tr>\n",
       "    <tr>\n",
       "      <th>9</th>\n",
       "      <td>ES</td>\n",
       "      <td>NMVOC</td>\n",
       "      <td>1990</td>\n",
       "      <td>159.3</td>\n",
       "    </tr>\n",
       "    <tr>\n",
       "      <th>10</th>\n",
       "      <td>EU27_2020</td>\n",
       "      <td>NMVOC</td>\n",
       "      <td>1990</td>\n",
       "      <td>191.9</td>\n",
       "    </tr>\n",
       "    <tr>\n",
       "      <th>11</th>\n",
       "      <td>EU28</td>\n",
       "      <td>NMVOC</td>\n",
       "      <td>1990</td>\n",
       "      <td>196.8</td>\n",
       "    </tr>\n",
       "    <tr>\n",
       "      <th>12</th>\n",
       "      <td>FI</td>\n",
       "      <td>NMVOC</td>\n",
       "      <td>1990</td>\n",
       "      <td>144.5</td>\n",
       "    </tr>\n",
       "    <tr>\n",
       "      <th>13</th>\n",
       "      <td>FR</td>\n",
       "      <td>NMVOC</td>\n",
       "      <td>1990</td>\n",
       "      <td>203.1</td>\n",
       "    </tr>\n",
       "    <tr>\n",
       "      <th>14</th>\n",
       "      <td>HR</td>\n",
       "      <td>NMVOC</td>\n",
       "      <td>1990</td>\n",
       "      <td>121.9</td>\n",
       "    </tr>\n",
       "    <tr>\n",
       "      <th>15</th>\n",
       "      <td>HU</td>\n",
       "      <td>NMVOC</td>\n",
       "      <td>1990</td>\n",
       "      <td>189.1</td>\n",
       "    </tr>\n",
       "    <tr>\n",
       "      <th>16</th>\n",
       "      <td>IE</td>\n",
       "      <td>NMVOC</td>\n",
       "      <td>1990</td>\n",
       "      <td>143.9</td>\n",
       "    </tr>\n",
       "    <tr>\n",
       "      <th>17</th>\n",
       "      <td>IT</td>\n",
       "      <td>NMVOC</td>\n",
       "      <td>1990</td>\n",
       "      <td>130.6</td>\n",
       "    </tr>\n",
       "    <tr>\n",
       "      <th>18</th>\n",
       "      <td>LT</td>\n",
       "      <td>NMVOC</td>\n",
       "      <td>1990</td>\n",
       "      <td>239.7</td>\n",
       "    </tr>\n",
       "    <tr>\n",
       "      <th>19</th>\n",
       "      <td>LU</td>\n",
       "      <td>NMVOC</td>\n",
       "      <td>1990</td>\n",
       "      <td>310.5</td>\n",
       "    </tr>\n",
       "    <tr>\n",
       "      <th>20</th>\n",
       "      <td>LV</td>\n",
       "      <td>NMVOC</td>\n",
       "      <td>1990</td>\n",
       "      <td>194.7</td>\n",
       "    </tr>\n",
       "    <tr>\n",
       "      <th>21</th>\n",
       "      <td>MT</td>\n",
       "      <td>NMVOC</td>\n",
       "      <td>1990</td>\n",
       "      <td>42.8</td>\n",
       "    </tr>\n",
       "    <tr>\n",
       "      <th>22</th>\n",
       "      <td>NL</td>\n",
       "      <td>NMVOC</td>\n",
       "      <td>1990</td>\n",
       "      <td>270.4</td>\n",
       "    </tr>\n",
       "    <tr>\n",
       "      <th>23</th>\n",
       "      <td>PL</td>\n",
       "      <td>NMVOC</td>\n",
       "      <td>1990</td>\n",
       "      <td>92.3</td>\n",
       "    </tr>\n",
       "    <tr>\n",
       "      <th>24</th>\n",
       "      <td>PT</td>\n",
       "      <td>NMVOC</td>\n",
       "      <td>1990</td>\n",
       "      <td>139.5</td>\n",
       "    </tr>\n",
       "    <tr>\n",
       "      <th>25</th>\n",
       "      <td>RO</td>\n",
       "      <td>NMVOC</td>\n",
       "      <td>1990</td>\n",
       "      <td>140.4</td>\n",
       "    </tr>\n",
       "    <tr>\n",
       "      <th>26</th>\n",
       "      <td>SE</td>\n",
       "      <td>NMVOC</td>\n",
       "      <td>1990</td>\n",
       "      <td>208.3</td>\n",
       "    </tr>\n",
       "    <tr>\n",
       "      <th>27</th>\n",
       "      <td>SI</td>\n",
       "      <td>NMVOC</td>\n",
       "      <td>1990</td>\n",
       "      <td>149.9</td>\n",
       "    </tr>\n",
       "    <tr>\n",
       "      <th>28</th>\n",
       "      <td>SK</td>\n",
       "      <td>NMVOC</td>\n",
       "      <td>1990</td>\n",
       "      <td>133.8</td>\n",
       "    </tr>\n",
       "    <tr>\n",
       "      <th>29</th>\n",
       "      <td>UK</td>\n",
       "      <td>NMVOC</td>\n",
       "      <td>1990</td>\n",
       "      <td>223.5</td>\n",
       "    </tr>\n",
       "    <tr>\n",
       "      <th>...</th>\n",
       "      <td>...</td>\n",
       "      <td>...</td>\n",
       "      <td>...</td>\n",
       "      <td>...</td>\n",
       "    </tr>\n",
       "    <tr>\n",
       "      <th>2490</th>\n",
       "      <td>AT</td>\n",
       "      <td>PM10</td>\n",
       "      <td>2017</td>\n",
       "      <td>50.2</td>\n",
       "    </tr>\n",
       "    <tr>\n",
       "      <th>2491</th>\n",
       "      <td>BE</td>\n",
       "      <td>PM10</td>\n",
       "      <td>2017</td>\n",
       "      <td>46.1</td>\n",
       "    </tr>\n",
       "    <tr>\n",
       "      <th>2492</th>\n",
       "      <td>BG</td>\n",
       "      <td>PM10</td>\n",
       "      <td>2017</td>\n",
       "      <td>135.4</td>\n",
       "    </tr>\n",
       "    <tr>\n",
       "      <th>2493</th>\n",
       "      <td>CY</td>\n",
       "      <td>PM10</td>\n",
       "      <td>2017</td>\n",
       "      <td>53.3</td>\n",
       "    </tr>\n",
       "    <tr>\n",
       "      <th>2494</th>\n",
       "      <td>CZ</td>\n",
       "      <td>PM10</td>\n",
       "      <td>2017</td>\n",
       "      <td>85.0</td>\n",
       "    </tr>\n",
       "    <tr>\n",
       "      <th>2495</th>\n",
       "      <td>DE</td>\n",
       "      <td>PM10</td>\n",
       "      <td>2017</td>\n",
       "      <td>53.7</td>\n",
       "    </tr>\n",
       "    <tr>\n",
       "      <th>2496</th>\n",
       "      <td>DK</td>\n",
       "      <td>PM10</td>\n",
       "      <td>2017</td>\n",
       "      <td>53.8</td>\n",
       "    </tr>\n",
       "    <tr>\n",
       "      <th>2497</th>\n",
       "      <td>EE</td>\n",
       "      <td>PM10</td>\n",
       "      <td>2017</td>\n",
       "      <td>64.9</td>\n",
       "    </tr>\n",
       "    <tr>\n",
       "      <th>2498</th>\n",
       "      <td>EL</td>\n",
       "      <td>PM10</td>\n",
       "      <td>2017</td>\n",
       "      <td>74.6</td>\n",
       "    </tr>\n",
       "    <tr>\n",
       "      <th>2499</th>\n",
       "      <td>ES</td>\n",
       "      <td>PM10</td>\n",
       "      <td>2017</td>\n",
       "      <td>53.9</td>\n",
       "    </tr>\n",
       "    <tr>\n",
       "      <th>2500</th>\n",
       "      <td>EU27_2020</td>\n",
       "      <td>PM10</td>\n",
       "      <td>2017</td>\n",
       "      <td>61.7</td>\n",
       "    </tr>\n",
       "    <tr>\n",
       "      <th>2501</th>\n",
       "      <td>EU28</td>\n",
       "      <td>PM10</td>\n",
       "      <td>2017</td>\n",
       "      <td>60.1</td>\n",
       "    </tr>\n",
       "    <tr>\n",
       "      <th>2502</th>\n",
       "      <td>FI</td>\n",
       "      <td>PM10</td>\n",
       "      <td>2017</td>\n",
       "      <td>80.5</td>\n",
       "    </tr>\n",
       "    <tr>\n",
       "      <th>2503</th>\n",
       "      <td>FR</td>\n",
       "      <td>PM10</td>\n",
       "      <td>2017</td>\n",
       "      <td>48.8</td>\n",
       "    </tr>\n",
       "    <tr>\n",
       "      <th>2504</th>\n",
       "      <td>HR</td>\n",
       "      <td>PM10</td>\n",
       "      <td>2017</td>\n",
       "      <td>87.6</td>\n",
       "    </tr>\n",
       "    <tr>\n",
       "      <th>2505</th>\n",
       "      <td>HU</td>\n",
       "      <td>PM10</td>\n",
       "      <td>2017</td>\n",
       "      <td>74.9</td>\n",
       "    </tr>\n",
       "    <tr>\n",
       "      <th>2506</th>\n",
       "      <td>IE</td>\n",
       "      <td>PM10</td>\n",
       "      <td>2017</td>\n",
       "      <td>58.8</td>\n",
       "    </tr>\n",
       "    <tr>\n",
       "      <th>2507</th>\n",
       "      <td>IT</td>\n",
       "      <td>PM10</td>\n",
       "      <td>2017</td>\n",
       "      <td>44.2</td>\n",
       "    </tr>\n",
       "    <tr>\n",
       "      <th>2508</th>\n",
       "      <td>LT</td>\n",
       "      <td>PM10</td>\n",
       "      <td>2017</td>\n",
       "      <td>215.1</td>\n",
       "    </tr>\n",
       "    <tr>\n",
       "      <th>2509</th>\n",
       "      <td>LU</td>\n",
       "      <td>PM10</td>\n",
       "      <td>2017</td>\n",
       "      <td>44.3</td>\n",
       "    </tr>\n",
       "    <tr>\n",
       "      <th>2510</th>\n",
       "      <td>LV</td>\n",
       "      <td>PM10</td>\n",
       "      <td>2017</td>\n",
       "      <td>93.7</td>\n",
       "    </tr>\n",
       "    <tr>\n",
       "      <th>2511</th>\n",
       "      <td>MT</td>\n",
       "      <td>PM10</td>\n",
       "      <td>2017</td>\n",
       "      <td>43.6</td>\n",
       "    </tr>\n",
       "    <tr>\n",
       "      <th>2512</th>\n",
       "      <td>NL</td>\n",
       "      <td>PM10</td>\n",
       "      <td>2017</td>\n",
       "      <td>39.5</td>\n",
       "    </tr>\n",
       "    <tr>\n",
       "      <th>2513</th>\n",
       "      <td>PL</td>\n",
       "      <td>PM10</td>\n",
       "      <td>2017</td>\n",
       "      <td>172.0</td>\n",
       "    </tr>\n",
       "    <tr>\n",
       "      <th>2514</th>\n",
       "      <td>PT</td>\n",
       "      <td>PM10</td>\n",
       "      <td>2017</td>\n",
       "      <td>68.0</td>\n",
       "    </tr>\n",
       "    <tr>\n",
       "      <th>2515</th>\n",
       "      <td>RO</td>\n",
       "      <td>PM10</td>\n",
       "      <td>2017</td>\n",
       "      <td>308.5</td>\n",
       "    </tr>\n",
       "    <tr>\n",
       "      <th>2516</th>\n",
       "      <td>SE</td>\n",
       "      <td>PM10</td>\n",
       "      <td>2017</td>\n",
       "      <td>101.2</td>\n",
       "    </tr>\n",
       "    <tr>\n",
       "      <th>2517</th>\n",
       "      <td>SI</td>\n",
       "      <td>PM10</td>\n",
       "      <td>2017</td>\n",
       "      <td>116.0</td>\n",
       "    </tr>\n",
       "    <tr>\n",
       "      <th>2518</th>\n",
       "      <td>SK</td>\n",
       "      <td>PM10</td>\n",
       "      <td>2017</td>\n",
       "      <td>111.6</td>\n",
       "    </tr>\n",
       "    <tr>\n",
       "      <th>2519</th>\n",
       "      <td>UK</td>\n",
       "      <td>PM10</td>\n",
       "      <td>2017</td>\n",
       "      <td>48.9</td>\n",
       "    </tr>\n",
       "  </tbody>\n",
       "</table>\n",
       "<p>2520 rows × 4 columns</p>\n",
       "</div>"
      ],
      "text/plain": [
       "            geo airpol  year  pol_level\n",
       "0            AT  NMVOC  1990      317.9\n",
       "1            BE  NMVOC  1990      252.7\n",
       "2            BG  NMVOC  1990      214.8\n",
       "3            CY  NMVOC  1990      134.7\n",
       "4            CZ  NMVOC  1990      116.3\n",
       "5            DE  NMVOC  1990      398.1\n",
       "6            DK  NMVOC  1990      157.4\n",
       "7            EE  NMVOC  1990      171.2\n",
       "8            EL  NMVOC  1990        NaN\n",
       "9            ES  NMVOC  1990      159.3\n",
       "10    EU27_2020  NMVOC  1990      191.9\n",
       "11         EU28  NMVOC  1990      196.8\n",
       "12           FI  NMVOC  1990      144.5\n",
       "13           FR  NMVOC  1990      203.1\n",
       "14           HR  NMVOC  1990      121.9\n",
       "15           HU  NMVOC  1990      189.1\n",
       "16           IE  NMVOC  1990      143.9\n",
       "17           IT  NMVOC  1990      130.6\n",
       "18           LT  NMVOC  1990      239.7\n",
       "19           LU  NMVOC  1990      310.5\n",
       "20           LV  NMVOC  1990      194.7\n",
       "21           MT  NMVOC  1990       42.8\n",
       "22           NL  NMVOC  1990      270.4\n",
       "23           PL  NMVOC  1990       92.3\n",
       "24           PT  NMVOC  1990      139.5\n",
       "25           RO  NMVOC  1990      140.4\n",
       "26           SE  NMVOC  1990      208.3\n",
       "27           SI  NMVOC  1990      149.9\n",
       "28           SK  NMVOC  1990      133.8\n",
       "29           UK  NMVOC  1990      223.5\n",
       "...         ...    ...   ...        ...\n",
       "2490         AT   PM10  2017       50.2\n",
       "2491         BE   PM10  2017       46.1\n",
       "2492         BG   PM10  2017      135.4\n",
       "2493         CY   PM10  2017       53.3\n",
       "2494         CZ   PM10  2017       85.0\n",
       "2495         DE   PM10  2017       53.7\n",
       "2496         DK   PM10  2017       53.8\n",
       "2497         EE   PM10  2017       64.9\n",
       "2498         EL   PM10  2017       74.6\n",
       "2499         ES   PM10  2017       53.9\n",
       "2500  EU27_2020   PM10  2017       61.7\n",
       "2501       EU28   PM10  2017       60.1\n",
       "2502         FI   PM10  2017       80.5\n",
       "2503         FR   PM10  2017       48.8\n",
       "2504         HR   PM10  2017       87.6\n",
       "2505         HU   PM10  2017       74.9\n",
       "2506         IE   PM10  2017       58.8\n",
       "2507         IT   PM10  2017       44.2\n",
       "2508         LT   PM10  2017      215.1\n",
       "2509         LU   PM10  2017       44.3\n",
       "2510         LV   PM10  2017       93.7\n",
       "2511         MT   PM10  2017       43.6\n",
       "2512         NL   PM10  2017       39.5\n",
       "2513         PL   PM10  2017      172.0\n",
       "2514         PT   PM10  2017       68.0\n",
       "2515         RO   PM10  2017      308.5\n",
       "2516         SE   PM10  2017      101.2\n",
       "2517         SI   PM10  2017      116.0\n",
       "2518         SK   PM10  2017      111.6\n",
       "2519         UK   PM10  2017       48.9\n",
       "\n",
       "[2520 rows x 4 columns]"
      ]
     },
     "execution_count": 74,
     "metadata": {},
     "output_type": "execute_result"
    }
   ],
   "source": [
    "ref_data_df = data_df.melt(id_vars=['geo', 'airpol'],value_vars=data_df.columns[4:], var_name='year', value_name='pol_level')\n",
    "ref_data_df"
   ]
  },
  {
   "cell_type": "markdown",
   "metadata": {},
   "source": [
    "### Relationship between different pollutants and Analysis over time"
   ]
  },
  {
   "cell_type": "code",
   "execution_count": 75,
   "metadata": {},
   "outputs": [
    {
     "data": {
      "text/plain": [
       "<matplotlib.axes._subplots.AxesSubplot at 0x234200f3fd0>"
      ]
     },
     "execution_count": 75,
     "metadata": {},
     "output_type": "execute_result"
    },
    {
     "data": {
      "image/png": "[encoded data removed]",
      "text/plain": [
       "<Figure size 576x360 with 1 Axes>"
      ]
     },
     "metadata": {
      "needs_background": "light"
     },
     "output_type": "display_data"
    }
   ],
   "source": [
    "plt.xticks(rotation=90)\n",
    "sns.pointplot(x='year', y='pol_level', hue='airpol', data=ref_data_df)"
   ]
  },
  {
   "cell_type": "code",
   "execution_count": 144,
   "metadata": {},
   "outputs": [
    {
     "data": {
      "text/plain": [
       "<matplotlib.axes._subplots.AxesSubplot at 0x2342d304be0>"
      ]
     },
     "execution_count": 144,
     "metadata": {},
     "output_type": "execute_result"
    },
    {
     "data": {
      "image/png": "[encoded data removed]",
      "text/plain": [
       "<Figure size 576x576 with 2 Axes>"
      ]
     },
     "metadata": {
      "needs_background": "light"
     },
     "output_type": "display_data"
    }
   ],
   "source": [
    "nox_data_df = nox_df.drop(columns=['unit', 'src_nfr', 'airpol'], axis=1)\n",
    "nox_data_df = nox_data_df.dropna(how='any')\n",
    "nox_data_df.set_index('geo', inplace=True)\n",
    "nox_data_df\n",
    "f, ax = plt.subplots(figsize=(8,8))\n",
    "ax.set_title('{} by Country and year'.format('no2'))\n",
    "sns.heatmap(nox_data_df, cmap=\"BuPu\", linewidths=.5, ax=ax)"
   ]
  },
  {
   "cell_type": "code",
   "execution_count": 143,
   "metadata": {},
   "outputs": [
    {
     "data": {
      "text/plain": [
       "<matplotlib.axes._subplots.AxesSubplot at 0x2342ce8d630>"
      ]
     },
     "execution_count": 143,
     "metadata": {},
     "output_type": "execute_result"
    },
    {
     "data": {
      "image/png": "[encoded data removed]",
      "text/plain": [
       "<Figure size 576x576 with 2 Axes>"
      ]
     },
     "metadata": {
      "needs_background": "light"
     },
     "output_type": "display_data"
    }
   ],
   "source": [
    "nmv_data_df = nmv_df.drop(columns=['unit', 'src_nfr', 'airpol'], axis=1)\n",
    "nmv_data_df = nmv_data_df.dropna(how='any')\n",
    "nmv_data_df.set_index('geo', inplace=True)\n",
    "nmv_data_df\n",
    "f, ax = plt.subplots(figsize=(8,8))\n",
    "ax.set_title('{} by Country and year'.format('no2'))\n",
    "sns.heatmap(nmv_data_df, cmap=\"BuPu\", linewidths=.5, ax=ax)"
   ]
  },
  {
   "cell_type": "code",
   "execution_count": 142,
   "metadata": {},
   "outputs": [
    {
     "data": {
      "text/plain": [
       "<matplotlib.axes._subplots.AxesSubplot at 0x2342cb8c6a0>"
      ]
     },
     "execution_count": 142,
     "metadata": {},
     "output_type": "execute_result"
    },
    {
     "data": {
      "image/png": "[encoded data removed]",
      "text/plain": [
       "<Figure size 576x576 with 2 Axes>"
      ]
     },
     "metadata": {
      "needs_background": "light"
     },
     "output_type": "display_data"
    }
   ],
   "source": [
    "pm10_data_df = pm10_df.drop(columns=['unit', 'src_nfr', 'airpol'], axis=1)\n",
    "pm10_data_df = pm10_data_df.dropna(how='any')\n",
    "pm10_data_df.set_index('geo', inplace=True)\n",
    "pm10_data_df\n",
    "f, ax = plt.subplots(figsize=(8,8))\n",
    "ax.set_title('{} by Country and year'.format('no2'))\n",
    "sns.heatmap(pm10_data_df, cmap=\"BuPu\", linewidths=.5, ax=ax)"
   ]
  }
 ],
 "metadata": {
  "kernelspec": {
   "display_name": "Python 3",
   "language": "python",
   "name": "python3"
  },
  "language_info": {
   "codemirror_mode": {
    "name": "ipython",
    "version": 3
   },
   "file_extension": ".py",
   "mimetype": "text/x-python",
   "name": "python",
   "nbconvert_exporter": "python",
   "pygments_lexer": "ipython3",
   "version": "3.7.3"
  }
 },
 "nbformat": 4,
 "nbformat_minor": 2
}
